{
 "cells": [
  {
   "cell_type": "markdown",
   "metadata": {},
   "source": [
    "## Estimating Current Draw Based on remaining Charge & Flight Time\n",
    "\n",
    "We hovered the drone at a height of ~2m or so in visual mode (P-Atti but inside of a building where no GPS signal was available at any point). The drone hovered very steadily in one place. We took screenshots of the battery monitor of the DJI Go App as the drone hovered and from that recorded flight time vs. battery charge in ``mAh`` at different points in time. The charge (converted to Coulomb) and flight time (converted to seconds) is plotted below, showing a remarkably steady current draw of ~16.2A. The current (slope) is estimated using linear regression on the datapoints. \n",
    "\n",
    "The main problem with this measurement is the reliability of the battery charge indicator in the DJI Go App. Most likely, the charge indicator relies on measuring the voltage of the battery cells and from that indirectly estimates the remaining charge via a calibration that is probably incorrect, and we don't know how incorrect it is. It would generally have been good to perform a full charge-discharge cycle of the battery right before making the measurement, which is what the battery uses to calibrate itself. This applies especially for older batteries (ours is practically brand new, with less than 4 cycles).\n",
    "\n",
    "A crappy estimate of the current draw can be calculated by taking the nominal capacity of the battery (4500mAh in our case) and recording the flight time. That's a terrible estimate because the battery capacity applies to a particular current strength being drawn, which is likely exceeded by the drone. More importantly the battery is not actually fully discharged, because that's bad for the battery. 20min flight time with 4500mAh suggests ``(60*60*4500/1000) C / (20*60) s = 13.5 A``, 15 min flight time suggests ``18 A``. This is an upper bound if you think the only inaccuracy is that the battery is not truly discharging 4500mAh."
   ]
  },
  {
   "cell_type": "code",
   "execution_count": 1,
   "metadata": {
    "collapsed": false
   },
   "outputs": [],
   "source": [
    "import pandas as pd\n",
    "import matplotlib.pyplot as plt\n",
    "% matplotlib inline\n",
    "data=pd.read_csv('current_draw.csv')\n",
    "data.columns=['mAh','mins','secs']\n",
    "data['time [s]']=data['mins']*60+data['secs']\n",
    "data['C']=60*60*data['mAh']/1000\n",
    "current=data[['C','time [s]']]"
   ]
  },
  {
   "cell_type": "code",
   "execution_count": 16,
   "metadata": {
    "collapsed": false
   },
   "outputs": [
    {
     "data": {
      "text/plain": [
       "<matplotlib.text.Text at 0x1122447b8>"
      ]
     },
     "execution_count": 16,
     "metadata": {},
     "output_type": "execute_result"
    },
    {
     "data": {
      "image/png": "[encoded data removed]",
      "text/plain": [
       "<matplotlib.figure.Figure at 0x1109b74e0>"
      ]
     },
     "metadata": {},
     "output_type": "display_data"
    }
   ],
   "source": [
    "from scipy import stats\n",
    "x=current['time [s]']\n",
    "y=current['C']\n",
    "slope, intercept, r_value, p_value, slope_std_error = stats.linregress(x,y)\n",
    "\n",
    "predict_y = intercept + slope * x\n",
    "pred_error = y - predict_y\n",
    "degrees_of_freedom = len(x) - 2\n",
    "residual_std_error = np.sqrt(np.sum(pred_error**2) / degrees_of_freedom)\n",
    "\n",
    "plt.plot(x,y,'o')\n",
    "plt.plot(x,predict_y)\n",
    "plt.xlabel('time [s]')\n",
    "plt.ylabel('C')"
   ]
  },
  {
   "cell_type": "code",
   "execution_count": 21,
   "metadata": {
    "collapsed": false
   },
   "outputs": [
    {
     "name": "stdout",
     "output_type": "stream",
     "text": [
      "Current Draw: -16.2 A\n"
     ]
    }
   ],
   "source": [
    "print('Current Draw: %1.1f A' % slope)"
   ]
  },
  {
   "cell_type": "code",
   "execution_count": 34,
   "metadata": {
    "collapsed": false
   },
   "outputs": [
    {
     "data": {
      "text/plain": [
       "16.0"
      ]
     },
     "execution_count": 34,
     "metadata": {},
     "output_type": "execute_result"
    }
   ],
   "source": [
    "(60*60*4000/1000) / (15*60)"
   ]
  }
 ],
 "metadata": {
  "kernelspec": {
   "display_name": "Python 3",
   "language": "python",
   "name": "python3"
  },
  "language_info": {
   "codemirror_mode": {
    "name": "ipython",
    "version": 3
   },
   "file_extension": ".py",
   "mimetype": "text/x-python",
   "name": "python",
   "nbconvert_exporter": "python",
   "pygments_lexer": "ipython3",
   "version": "3.6.0"
  }
 },
 "nbformat": 4,
 "nbformat_minor": 2
}
