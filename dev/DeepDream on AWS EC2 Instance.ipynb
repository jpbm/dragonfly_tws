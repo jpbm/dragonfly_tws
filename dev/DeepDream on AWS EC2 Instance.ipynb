{
 "cells": [
  {
   "cell_type": "markdown",
   "metadata": {},
   "source": [
    "# How to run DeepDream on an AWS EC2 instance.\n",
    "\n",
    "This is how I run Google's DeepDream (via https://github.com/google/deepdream/blob/master/dream.ipynb) on an Amazon Web Services Elastic Compute Cloud (EC2) instance with GPU acceleration. I think these instructions should be pretty failsafe someone with basic computer skillz. (We worked through some other online tutorials before doing this and ran into some trouble or another every single time). I'm doing all of this on a mac, so there's a little bit of UNIX commandline going on -- that's probably the only required skill. \n",
    "\n",
    "## Brief note on the cloud decision:\n",
    "##### Running on the cloud has several advantages: \n",
    "\n",
    "- super beefy computing power for not *that* much money\n",
    "- standardized computing platform avoids the considerable headache it's been to get dependencies running on every machine we might want to use.\n",
    "- we don't have to maintain the platform\n",
    "\n",
    "##### Disadvantages:\n",
    "\n",
    "- costs money, so better to launch and stop instance on demand unless you want to pay 640$/month or whatever it is\n",
    "- relies on internet connection\n",
    "\n",
    "\n",
    "The speed-up that a cloud instance enables over an upscale computer a private individual might own is discussed by Eric Cheng (http://www.echeng.com/journal/2016/3/21/deepdream-macpro-vs-ec2-cuda)\n",
    "\n",
    "Instructions for running Google's DeepDream algorithm are easily spotted online, including docker images that enable you to get around setting up the dependencies. The most frequently encountered one is vision.ai's clouddream image https://github.com/VISIONAI/clouddream. I don't think it swings GPU support though (my graphics card can't do CUDA, so I didn't actually bother with looking into this.). We got vision.ai's solution running locally by skipping all the cloud and (deprecated?) boot2docker jazz they start doing and just using the docker image (thanks, Einar! https://github.com/einarbmag/deepdream-api). This implementation took about 60-70s to process a 512x320 frame on my 2016 macbook pro. The time to process a 1024x575 frame on a g2.8xlarge GPU instance was about 8s.\n",
    "\n",
    "# Step 1: Set up your AWS Instance.\n",
    "We're going to use the exact same cloud computing instance as the famous Stanford Convolutional Neural Net people. This is possible through them providing an image (a blueprint, basically) of their cloud computing instance. They also provide this tutorial on how to get it running, so doing this tutorial is step 1: \n",
    "http://cs231n.github.io/aws-tutorial/\n",
    "\n",
    "Note that when the instance is launched, it starts to cost you money. Make sure to shut it back down for that reason. And look into billing alerts, just to be safe. \n",
    "\n",
    "# Step 2: Acquire the deep dream code\n",
    "Once the instance is up and running you can log into it from your local computer using ssh: \n",
    "\n",
    "``ssh -i ~/path-to-rsa-key-you-used -A ubuntu@dns-of-your-cloud-instance``\n",
    "\n",
    "Note how in the amazon dashboard it says \"Public DNS\" somewhere. That's the one you're supposed to use. The ssh key is probably going to be in the ``~/.ssh`` folder if you're on a mac. \n",
    "\n",
    "Once you're on the remote instance, you can pull google's notebook onto the cloud instance. \n",
    "\n",
    "``git clone https://github.com/google/deepdream``\n",
    "\n",
    "and if you run ``ls``, you'll see there's now the deepdream folder on your cloud computer.\n",
    "\n",
    "# Step 3: Take the code from the DeepDream notebook\n",
    "Literally copy and paste the code into your own python script and start playing with it. First time I did it I just past it into an ipython shell.\n",
    "\n",
    "# Step 4: Face hardships in life\n",
    "When you try to run it, it won't work, because there's no such thing as ``'bvlc_googlenet.caffemodel'`` in the ``caffe/models/`` of the AMI. Turns out it's online when you google it, for example: https://github.com/AleDel/deepdreamer-touchdesigner/blob/master/models/bvlc_googlenet.caffemodel. Download that file on your cloud instance using, for example ``wget https://github.com/AleDel/deepdreamer-touchdesigner/blob/master/models/bvlc_googlenet.caffemodel `` and copy it into ``caffe/models/``. \n",
    "\n",
    "and at this point I was able to run the deepdream function..."
   ]
  },
  {
   "cell_type": "code",
   "execution_count": null,
   "metadata": {
    "collapsed": true
   },
   "outputs": [],
   "source": []
  }
 ],
 "metadata": {
  "kernelspec": {
   "display_name": "Python 3",
   "language": "python",
   "name": "python3"
  },
  "language_info": {
   "codemirror_mode": {
    "name": "ipython",
    "version": 3
   },
   "file_extension": ".py",
   "mimetype": "text/x-python",
   "name": "python",
   "nbconvert_exporter": "python",
   "pygments_lexer": "ipython3",
   "version": "3.6.0"
  }
 },
 "nbformat": 4,
 "nbformat_minor": 2
}
